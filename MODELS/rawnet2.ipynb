{
 "cells": [
  {
   "cell_type": "code",
   "execution_count": null,
   "id": "cd0e6262-682a-4f11-9ff9-97492df4c4d6",
   "metadata": {},
   "outputs": [],
   "source": [
    "import torch\n",
    "import torch.nn as nn\n",
    "\n",
    "class RawNet2(nn.Module):\n",
    "    \"\"\"\n",
    "    A lightweight version of RawNet2 for binary classification (bonafide/spoof).\n",
    "    \"\"\"\n",
    "    def __init__(self):\n",
    "        super(RawNet2, self).__init__()\n",
    "        self.cnn = nn.Sequential(\n",
    "            nn.Conv1d(1, 16, 3, padding=1),\n",
    "            nn.ReLU(),\n",
    "            nn.MaxPool1d(2),\n",
    "            nn.Conv1d(16, 32, 3, padding=1),\n",
    "            nn.ReLU(),\n",
    "            nn.MaxPool1d(2),\n",
    "        )\n",
    "        self.gru = nn.GRU(input_size=32, hidden_size=64, batch_first=True)\n",
    "        self.fc = nn.Linear(64, 2)\n",
    "\n",
    "    def forward(self, x):\n",
    "        x = self.cnn(x)\n",
    "        x = x.permute(0, 2, 1)  # Reshape for GRU: (batch, time, features)\n",
    "        _, h = self.gru(x)\n",
    "        return self.fc(h[-1])\n"
   ]
  }
 ],
 "metadata": {
  "kernelspec": {
   "display_name": "Python (PyTorch)",
   "language": "python",
   "name": "pytorch-env"
  },
  "language_info": {
   "codemirror_mode": {
    "name": "ipython",
    "version": 3
   },
   "file_extension": ".py",
   "mimetype": "text/x-python",
   "name": "python",
   "nbconvert_exporter": "python",
   "pygments_lexer": "ipython3",
   "version": "3.10.9"
  }
 },
 "nbformat": 4,
 "nbformat_minor": 5
}
