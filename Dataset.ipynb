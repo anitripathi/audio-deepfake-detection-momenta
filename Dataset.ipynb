{
 "cells": [
  {
   "cell_type": "code",
   "execution_count": null,
   "id": "be86df5b-2062-4067-a71c-fb1b72e402c4",
   "metadata": {},
   "outputs": [],
   "source": [
    "import os\n",
    "import pandas as pd\n",
    "import torch\n",
    "import torchaudio\n",
    "from torch.utils.data import Dataset\n",
    "\n",
    "class ASVspoofDataset(Dataset):\n",
    "    \"\"\"\n",
    "    PyTorch Dataset class for ASVspoof2019 LA dataset.\n",
    "    Loads audio and corresponding labels for training.\n",
    "    \"\"\"\n",
    "    def __init__(self, protocol_file, audio_dir, sample_rate=16000, duration=4):\n",
    "        self.df = pd.read_csv(protocol_file, sep=' ', header=None, names=['file_id', '1', '2', 'label'])\n",
    "        self.df = self.df[['file_id', 'label']]\n",
    "        self.audio_dir = audio_dir\n",
    "        self.sample_rate = sample_rate\n",
    "        self.max_len = sample_rate * duration  # Target length in samples\n",
    "\n",
    "        # Convert labels to integers\n",
    "        label_map = {'bonafide': 0, 'spoof': 1}\n",
    "        self.df['label'] = self.df['label'].map(label_map)\n",
    "\n",
    "    def __len__(self):\n",
    "        return len(self.df)\n",
    "\n",
    "    def __getitem__(self, idx):\n",
    "        row = self.df.iloc[idx]\n",
    "        file_id = row['file_id']\n",
    "        label = row['label']\n",
    "        file_path = os.path.join(self.audio_dir, file_id + \".flac\")\n",
    "\n",
    "        waveform, sr = torchaudio.load(file_path)\n",
    "        waveform = waveform.mean(dim=0)  # Convert to mono\n",
    "\n",
    "        # Pad or trim the waveform\n",
    "        if waveform.size(0) < self.max_len:\n",
    "            waveform = torch.nn.functional.pad(waveform, (0, self.max_len - waveform.size(0)))\n",
    "        else:\n",
    "            waveform = waveform[:self.max_len]\n",
    "\n",
    "        return waveform.unsqueeze(0), torch.tensor(label, dtype=torch.long)\n"
   ]
  }
 ],
 "metadata": {
  "kernelspec": {
   "display_name": "Python 3 (ipykernel)",
   "language": "python",
   "name": "python3"
  },
  "language_info": {
   "codemirror_mode": {
    "name": "ipython",
    "version": 3
   },
   "file_extension": ".py",
   "mimetype": "text/x-python",
   "name": "python",
   "nbconvert_exporter": "python",
   "pygments_lexer": "ipython3",
   "version": "3.12.0"
  }
 },
 "nbformat": 4,
 "nbformat_minor": 5
}
