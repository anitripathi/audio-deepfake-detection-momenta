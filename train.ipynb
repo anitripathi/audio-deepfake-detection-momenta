{
 "cells": [
  {
   "cell_type": "code",
   "execution_count": null,
   "id": "7176d62d-a89f-4fa5-82d6-2a0e5796a1ff",
   "metadata": {},
   "outputs": [],
   "source": [
    "import torch\n",
    "from torch import nn\n",
    "from torch.utils.data import DataLoader\n",
    "from utils.dataset import ASVspoofDataset\n",
    "from models.rawnet2 import RawNet2\n",
    "\n",
    "# Paths (update as needed)\n",
    "PROTOCOL_FILE = 'data/LA/ASVspoof2019_LA_cm_protocols/ASVspoof2019.LA.cm.train.trn.txt'\n",
    "AUDIO_DIR = 'data/LA/ASVspoof2019_LA_train/flac'\n",
    "\n",
    "# Dataset and Dataloader\n",
    "dataset = ASVspoofDataset(PROTOCOL_FILE, AUDIO_DIR)\n",
    "dataloader = DataLoader(dataset, batch_size=16, shuffle=True)\n",
    "\n",
    "# Model, Loss, Optimizer\n",
    "model = RawNet2()\n",
    "device = 'cuda' if torch.cuda.is_available() else 'cpu'\n",
    "model.to(device)\n",
    "\n",
    "loss_fn = nn.CrossEntropyLoss()\n",
    "optimizer = torch.optim.Adam(model.parameters(), lr=0.001)\n",
    "\n",
    "# Training loop\n",
    "EPOCHS = 5\n",
    "for epoch in range(EPOCHS):\n",
    "    model.train()\n",
    "    total, correct = 0, 0\n",
    "    for x, y in dataloader:\n",
    "        x, y = x.to(device), y.to(device)\n",
    "        output = model(x)\n",
    "        loss = loss_fn(output, y)\n",
    "        optimizer.zero_grad()\n",
    "        loss.backward()\n",
    "        optimizer.step()\n",
    "        total += y.size(0)\n",
    "        correct += (output.argmax(1) == y).sum().item()\n",
    "\n",
    "    acc = 100 * correct / total\n",
    "    print(f\"Epoch {epoch + 1}/{EPOCHS} | Accuracy: {acc:.2f}%\")\n"
   ]
  }
 ],
 "metadata": {
  "kernelspec": {
   "display_name": "Python (PyTorch)",
   "language": "python",
   "name": "pytorch-env"
  },
  "language_info": {
   "codemirror_mode": {
    "name": "ipython",
    "version": 3
   },
   "file_extension": ".py",
   "mimetype": "text/x-python",
   "name": "python",
   "nbconvert_exporter": "python",
   "pygments_lexer": "ipython3",
   "version": "3.10.9"
  }
 },
 "nbformat": 4,
 "nbformat_minor": 5
}
