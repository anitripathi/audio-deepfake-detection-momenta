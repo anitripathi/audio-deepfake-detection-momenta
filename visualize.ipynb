{
 "cells": [
  {
   "cell_type": "code",
   "execution_count": null,
   "id": "39860a7f-3d6f-4645-8686-a35159bf6549",
   "metadata": {},
   "outputs": [],
   "source": [
    "import librosa\n",
    "import matplotlib.pyplot as plt\n",
    "\n",
    "file_path = r\"C:\\Users\\yashn\\Desktop\\audio-deepfake-detection-momenta\\LA\\ASVspoof2019_LA_train\\flac\\LA_T_1000824.flac\"\n",
    "signal, sr = librosa.load(file_path, sr=None)\n",
    "\n",
    "plt.figure(figsize=(12, 3))\n",
    "plt.plot(signal)\n",
    "plt.title(\"Audio Waveform\")\n",
    "plt.xlabel(\"Time\")\n",
    "plt.ylabel(\"Amplitude\")\n",
    "plt.tight_layout()\n",
    "plt.show()\n"
   ]
  }
 ],
 "metadata": {
  "kernelspec": {
   "display_name": "Python (PyTorch)",
   "language": "python",
   "name": "pytorch-env"
  },
  "language_info": {
   "codemirror_mode": {
    "name": "ipython",
    "version": 3
   },
   "file_extension": ".py",
   "mimetype": "text/x-python",
   "name": "python",
   "nbconvert_exporter": "python",
   "pygments_lexer": "ipython3",
   "version": "3.10.9"
  }
 },
 "nbformat": 4,
 "nbformat_minor": 5
}
